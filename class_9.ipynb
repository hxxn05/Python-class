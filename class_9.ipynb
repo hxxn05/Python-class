{
  "nbformat": 4,
  "nbformat_minor": 0,
  "metadata": {
    "colab": {
      "provenance": [],
      "authorship_tag": "ABX9TyOs2OWbjdtdzBk1D1jwBFdi",
      "include_colab_link": true
    },
    "kernelspec": {
      "name": "python3",
      "display_name": "Python 3"
    },
    "language_info": {
      "name": "python"
    }
  },
  "cells": [
    {
      "cell_type": "markdown",
      "metadata": {
        "id": "view-in-github",
        "colab_type": "text"
      },
      "source": [
        "<a href=\"https://colab.research.google.com/github/hxxn05/Python-class/blob/main/class_9.ipynb\" target=\"_parent\"><img src=\"https://colab.research.google.com/assets/colab-badge.svg\" alt=\"Open In Colab\"/></a>"
      ]
    },
    {
      "cell_type": "code",
      "execution_count": 15,
      "metadata": {
        "colab": {
          "base_uri": "https://localhost:8080/"
        },
        "id": "OR1xgb2KJUjx",
        "outputId": "0735fa68-391f-43a2-b582-809d15f3345f"
      },
      "outputs": [
        {
          "output_type": "stream",
          "name": "stdout",
          "text": [
            "      iphone    !     \n",
            ".iphone.~~ \n",
            "iphone!\n",
            "      iphone    !     \n",
            "~~.iphone.~~ \n",
            "iphone!\n"
          ]
        }
      ],
      "source": [
        "a = '      iphone    !     '\n",
        "b = '~~.iphone.~~ '\n",
        "c = 'iphone!' #DH\n",
        "\n",
        "#print(b.rstrip(), end = '.' )\n",
        "print(a.lstrip('~'))\n",
        "print(b.lstrip('~'))\n",
        "print(c.lstrip('~')) #DH\n",
        "\n",
        "\n",
        "print(a.rstrip('~'))\n",
        "print(b.rstrip('~'))\n",
        "print(c.rstrip('~')) #DH\n",
        "\n"
      ]
    },
    {
      "cell_type": "code",
      "source": [
        "text = '0000000Water boils at 100 degrees 000'\n",
        "print(text.lstrip('0'))\n",
        "print(text.rstrip('0')) #DH\n",
        "print(text.strip('0'))\n"
      ],
      "metadata": {
        "colab": {
          "base_uri": "https://localhost:8080/"
        },
        "id": "sBWOchifMXqo",
        "outputId": "1022fcc2-7a0b-431b-a8b1-975dd71740cf"
      },
      "execution_count": 16,
      "outputs": [
        {
          "output_type": "stream",
          "name": "stdout",
          "text": [
            "Water boils at 100 degrees 000\n",
            "0000000Water boils at 100 degrees \n",
            "Water boils at 100 degrees \n"
          ]
        }
      ]
    },
    {
      "cell_type": "code",
      "source": [
        "text = \"!,,,,,123.....water....pp\"\n",
        "print(text.lstrip(',123.p'))\n",
        "print(text.rstrip(',123.p'))#DH\n",
        "print(text.strip(',123.p'))\n"
      ],
      "metadata": {
        "colab": {
          "base_uri": "https://localhost:8080/"
        },
        "id": "cGliRhAPNBL3",
        "outputId": "067f9959-7a3d-431d-97c0-22226819b3f4"
      },
      "execution_count": 20,
      "outputs": [
        {
          "output_type": "stream",
          "name": "stdout",
          "text": [
            "!,,,,,123.....water....pp\n",
            "!,,,,,123.....water\n",
            "!,,,,,123.....water\n"
          ]
        }
      ]
    },
    {
      "cell_type": "code",
      "source": [
        "text = ' water boils at 100 degrees '\n",
        "print('[' + text.rstrip() + ']')\n",
        "print('[' + text.lstrip() + ']') #DH\n",
        "print('[' + text.strip() + ']')\n"
      ],
      "metadata": {
        "colab": {
          "base_uri": "https://localhost:8080/"
        },
        "id": "FUHBwXm5N_lQ",
        "outputId": "62c118bf-4d6a-41fd-e6be-dd1861ed653d"
      },
      "execution_count": 21,
      "outputs": [
        {
          "output_type": "stream",
          "name": "stdout",
          "text": [
            "[ water boils at 100 degrees]\n",
            "[water boils at 100 degrees ]\n",
            "[water boils at 100 degrees]\n"
          ]
        }
      ]
    },
    {
      "cell_type": "code",
      "source": [
        "txt = \"   Hz    \"\n",
        "x = txt.isspace() #DH\n",
        "print(x)"
      ],
      "metadata": {
        "colab": {
          "base_uri": "https://localhost:8080/"
        },
        "id": "2pCDHTA8PM0H",
        "outputId": "fe741431-a741-4f2e-fbd9-19a1331a49d9"
      },
      "execution_count": 22,
      "outputs": [
        {
          "output_type": "stream",
          "name": "stdout",
          "text": [
            "False\n"
          ]
        }
      ]
    },
    {
      "cell_type": "code",
      "source": [
        "txt = \"       \"\n",
        "x = txt.isspace() #DH\n",
        "print(x)"
      ],
      "metadata": {
        "colab": {
          "base_uri": "https://localhost:8080/"
        },
        "id": "cCeVB9egPj5Q",
        "outputId": "b553faaf-ac1a-4925-b86d-0bfa4244aac0"
      },
      "execution_count": 23,
      "outputs": [
        {
          "output_type": "stream",
          "name": "stdout",
          "text": [
            "True\n"
          ]
        }
      ]
    },
    {
      "cell_type": "code",
      "source": [
        "sentence = input(\"문자열을 입력하시오:\")\n",
        "table = {\"알파벳\" : 0, \"숫자\" : 0, \"빈칸\" : 0}\n",
        "\n",
        "\n",
        "for i in sentence :\n",
        "  if (i.isalpha()):\n",
        "      table[\"알파벳\"] += 1\n",
        "  elif (i.isdigit()):\n",
        "      table[\"숫자\"] +=1\n",
        "  elif (i.isspace()):\n",
        "      table[\"빈칸\"] +=1\n",
        "print(table)"
      ],
      "metadata": {
        "colab": {
          "base_uri": "https://localhost:8080/"
        },
        "id": "lBuBt8VkPwWI",
        "outputId": "c754c70e-8e85-4110-e217-ecd0a6cf991c"
      },
      "execution_count": 25,
      "outputs": [
        {
          "output_type": "stream",
          "name": "stdout",
          "text": [
            "문자열을 입력하시오:2005 DH\n",
            "{'알파벳': 2, '숫자': 4, '빈칸': 1}\n"
          ]
        }
      ]
    },
    {
      "cell_type": "code",
      "source": [
        "### 우측 정렬 예\n",
        "s = '이강인화이팅'\n",
        "n = 7\n",
        "\n",
        "answer = ''\n",
        "for i in range(n-len(s)): #DH\n",
        "    answer +=  '  '\n",
        "\n",
        "answer += s\n",
        "\n",
        "print(answer)\n",
        "\n",
        "print(s.ljust(n))   #좌측 정렬\n",
        "print(s.center(n))  #가운데 정렬\n",
        "print(s.rjust(n))   #우측 정렬"
      ],
      "metadata": {
        "colab": {
          "base_uri": "https://localhost:8080/"
        },
        "id": "yYyBMmVbR43o",
        "outputId": "44c2964c-d8c8-4200-cd2f-0825c02ea0f8"
      },
      "execution_count": 31,
      "outputs": [
        {
          "output_type": "stream",
          "name": "stdout",
          "text": [
            "  이강인화이팅\n",
            "이강인화이팅 \n",
            " 이강인화이팅\n",
            " 이강인화이팅\n"
          ]
        }
      ]
    },
    {
      "cell_type": "code",
      "source": [
        "s = \" aa bb cc dd ee ff gg,\"\n",
        "print(f's       : {s}')\n",
        "#DH\n",
        "r0 = s.split() #DH\n",
        "r1 = s.split('.')\n",
        "r2 = s.split(sep='.')\n",
        "\n",
        "print(f\"s.split() : {r0}\")\n",
        "print(f\"s.split() : {r1}\")\n",
        "print(f\"s.split() : {r2}\")\n"
      ],
      "metadata": {
        "colab": {
          "base_uri": "https://localhost:8080/"
        },
        "id": "Y7g16Dk4SixK",
        "outputId": "7218e1df-eb1e-44b8-9c64-dad3a680c4b4"
      },
      "execution_count": 35,
      "outputs": [
        {
          "output_type": "stream",
          "name": "stdout",
          "text": [
            "s       :  aa bb cc dd ee ff gg,\n",
            "s.split() : ['aa', 'bb', 'cc', 'dd', 'ee', 'ff', 'gg,']\n",
            "s.split() : [' aa bb cc dd ee ff gg,']\n",
            "s.split() : [' aa bb cc dd ee ff gg,']\n"
          ]
        }
      ]
    },
    {
      "cell_type": "code",
      "source": [
        "s = \"aa.bb.cc.BlockDMask.ee.ff.gg.python.example\"\n",
        "print(f'{s}')\n",
        "\n",
        "r0 = s.split()\n",
        "r1 = s.split('.', 3)\n",
        "r2 = s.split(sep ='.', maxsplit=3)\n",
        "r3 = s.split('.', maxsplit=3)\n",
        "print(f\"\\ns.split()\\n{r0}\") #DH\n",
        "print(f\"\\ns.split('.', 3)\\n{r1}\")\n",
        "print(f\"\\ns.split(sep='.', maxsplit=3)\\n{r2}\")\n",
        "print(f\"\\ns.split('.', maxsplit=3)\\n{r3}\")\n"
      ],
      "metadata": {
        "colab": {
          "base_uri": "https://localhost:8080/"
        },
        "id": "BbUB0t9SYy2h",
        "outputId": "d74ac961-fcf7-44a6-f4f8-064965b80d05"
      },
      "execution_count": 37,
      "outputs": [
        {
          "output_type": "stream",
          "name": "stdout",
          "text": [
            "aa.bb.cc.BlockDMask.ee.ff.gg.python.example\n",
            "\n",
            "s.split()\n",
            "['aa.bb.cc.BlockDMask.ee.ff.gg.python.example']\n",
            "\n",
            "s.split('.', 3)\n",
            "['aa', 'bb', 'cc', 'BlockDMask.ee.ff.gg.python.example']\n",
            "\n",
            "s.split(sep='.', maxsplit=3)\n",
            "['aa', 'bb', 'cc', 'BlockDMask.ee.ff.gg.python.example']\n",
            "\n",
            "s.split('.', maxsplit=3)\n",
            "['aa', 'bb', 'cc', 'BlockDMask.ee.ff.gg.python.example']\n"
          ]
        }
      ]
    },
    {
      "cell_type": "code",
      "source": [
        "text = '123,456,789,999'\n",
        "\n",
        "replaceAll = text.replace(\",\",\"\")\n",
        "replace_t1 = text.replace(\",\",\"\",1)\n",
        "replace_t2 = text.replace(\",\",\"\",2)\n",
        "replace_t3 = text.replace(\",\",\"\",3) #DH\n",
        "print(\"결과 :\")\n",
        "print(replaceAll)\n",
        "print(replace_t1)\n",
        "print(replace_t2)\n",
        "print(replace_t3)\n"
      ],
      "metadata": {
        "colab": {
          "base_uri": "https://localhost:8080/"
        },
        "id": "iXQ8mzgaZzAx",
        "outputId": "3f652b94-bc70-4d72-a728-527126c9407e"
      },
      "execution_count": 40,
      "outputs": [
        {
          "output_type": "stream",
          "name": "stdout",
          "text": [
            "결과 :\n",
            "123456789999\n",
            "123456,789,999\n",
            "123456789,999\n",
            "123456789999\n"
          ]
        }
      ]
    },
    {
      "cell_type": "code",
      "source": [
        "txt = \"홈짱닷컴\\nHomeZZang.com\" #DH\n",
        "x = txt.splitlines()\n",
        "\n",
        "print(x)"
      ],
      "metadata": {
        "colab": {
          "base_uri": "https://localhost:8080/"
        },
        "id": "JeF15fPweCzQ",
        "outputId": "24debde1-1501-4f9a-a1fd-442742af6029"
      },
      "execution_count": 42,
      "outputs": [
        {
          "output_type": "stream",
          "name": "stdout",
          "text": [
            "['홈짱닷컴', 'HomeZZang.com']\n"
          ]
        }
      ]
    },
    {
      "cell_type": "code",
      "source": [
        "g = 'Milk\\nChicken\\r\\nBread\\rButter'\n",
        "\n",
        "print(g.splitlines())\n",
        "print(g.splitlines(True)) #DH\n",
        "\n",
        "g = 'Milk Chicken Bread Butter'\n",
        "print(g.splitlines())"
      ],
      "metadata": {
        "colab": {
          "base_uri": "https://localhost:8080/"
        },
        "id": "GWRUrIsWe6dA",
        "outputId": "a70f790f-abb6-454a-b72c-6f194c323f22"
      },
      "execution_count": 43,
      "outputs": [
        {
          "output_type": "stream",
          "name": "stdout",
          "text": [
            "['Milk', 'Chicken', 'Bread', 'Butter']\n",
            "['Milk\\n', 'Chicken\\r\\n', 'Bread\\r', 'Butter']\n",
            "['Milk Chicken Bread Butter']\n"
          ]
        }
      ]
    },
    {
      "cell_type": "code",
      "source": [
        "a = ['a','b','c','d','1','2','3']\n",
        "print(a)\n",
        "#DH\n",
        "result1 = \"!\".join(a)\n",
        "print(result1)\n",
        "\n",
        "\n",
        "\n",
        "\n"
      ],
      "metadata": {
        "colab": {
          "base_uri": "https://localhost:8080/"
        },
        "id": "xRyKbqT1gS-g",
        "outputId": "468a7fa1-e68b-481e-ad57-4ead09b16841"
      },
      "execution_count": 47,
      "outputs": [
        {
          "output_type": "stream",
          "name": "stdout",
          "text": [
            "['a', 'b', 'c', 'd', '1', '2', '3']\n",
            "a!b!c!d!1!2!3\n"
          ]
        }
      ]
    },
    {
      "cell_type": "code",
      "source": [
        "print( \"3\".zfill(3))\n",
        "print( \"s1\".zfill(4))#DH"
      ],
      "metadata": {
        "colab": {
          "base_uri": "https://localhost:8080/"
        },
        "id": "IGhx1U4vh_ZY",
        "outputId": "dbc422a3-bdfb-4288-885e-37d6aac9d865"
      },
      "execution_count": 48,
      "outputs": [
        {
          "output_type": "stream",
          "name": "stdout",
          "text": [
            "003\n",
            "00s1\n"
          ]
        }
      ]
    },
    {
      "cell_type": "code",
      "source": [
        "for x in range(3):\n",
        "    print(x)\n",
        "    print( str(x).zfill(4))"
      ],
      "metadata": {
        "colab": {
          "base_uri": "https://localhost:8080/"
        },
        "id": "qYvZQOC1ig9X",
        "outputId": "6bc9a046-8730-4e66-e883-fd81fa2a7051"
      },
      "execution_count": 50,
      "outputs": [
        {
          "output_type": "stream",
          "name": "stdout",
          "text": [
            "0\n",
            "0000\n",
            "1\n",
            "0001\n",
            "2\n",
            "0002\n"
          ]
        }
      ]
    },
    {
      "cell_type": "code",
      "source": [
        "a =\"abc\"\n",
        "\n",
        "print(a.rjust(10))\n",
        "print(a.rjust(10, '#'))\n",
        "\n",
        "print(a.ljust(10))\n",
        "print(a.ljust(10, '*'))\n",
        "\n",
        "print('\\n')\n",
        "\n",
        "b='def'\n",
        "print(b.ljust(15))\n",
        "print(b.ljust(15, 'k'))\n",
        ""
      ],
      "metadata": {
        "colab": {
          "base_uri": "https://localhost:8080/"
        },
        "id": "tod9mcYvilJv",
        "outputId": "101e0e9e-d7f2-4ba2-9ff6-1f71057368bb"
      },
      "execution_count": 51,
      "outputs": [
        {
          "output_type": "stream",
          "name": "stdout",
          "text": [
            "       abc\n",
            "#######abc\n",
            "abc       \n",
            "abc*******\n",
            "\n",
            "\n",
            "def            \n",
            "defkkkkkkkkkkkk\n"
          ]
        }
      ]
    }
  ]
}