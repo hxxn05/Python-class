{
  "nbformat": 4,
  "nbformat_minor": 0,
  "metadata": {
    "colab": {
      "provenance": [],
      "authorship_tag": "ABX9TyO9NmsovMZHJ00s+ExGYCgg",
      "include_colab_link": true
    },
    "kernelspec": {
      "name": "python3",
      "display_name": "Python 3"
    },
    "language_info": {
      "name": "python"
    }
  },
  "cells": [
    {
      "cell_type": "markdown",
      "metadata": {
        "id": "view-in-github",
        "colab_type": "text"
      },
      "source": [
        "<a href=\"https://colab.research.google.com/github/hxxn05/Python-class/blob/main/class_10.ipynb\" target=\"_parent\"><img src=\"https://colab.research.google.com/assets/colab-badge.svg\" alt=\"Open In Colab\"/></a>"
      ]
    },
    {
      "cell_type": "code",
      "execution_count": 3,
      "metadata": {
        "colab": {
          "base_uri": "https://localhost:8080/"
        },
        "id": "018NQFh6xQFJ",
        "outputId": "b5ec2d84-dad9-4bd1-b04f-84537b519c63"
      },
      "outputs": [
        {
          "output_type": "stream",
          "name": "stdout",
          "text": [
            "BlockDMask\n",
            "BlockDMask\n",
            "BlockDMask\n",
            "BlockDMask\n",
            "BlockDMask\n",
            "BlockDMask\n"
          ]
        }
      ],
      "source": [
        "def func1():\n",
        "    print('BlockDMask')\n",
        "\n",
        "#함수 호출\n",
        "func1() #DH\n",
        "func1()\n",
        "func1()\n",
        "\n",
        "for i in range(3):\n",
        "  func1()"
      ]
    },
    {
      "cell_type": "code",
      "source": [
        "def func2(a,b):\n",
        "    print(f'{a} 곱하기 {b} = {a * b}')\n",
        "\n",
        "#함수 호출\n",
        "func2(1,2)\n",
        "func2(1,3) #DH\n",
        "func2(2,4)"
      ],
      "metadata": {
        "colab": {
          "base_uri": "https://localhost:8080/"
        },
        "id": "7ZUYTHMPyrIM",
        "outputId": "ee3ef9c4-c7d6-487c-f41f-a42cf9252969"
      },
      "execution_count": 5,
      "outputs": [
        {
          "output_type": "stream",
          "name": "stdout",
          "text": [
            "1 곱하기 2 = 2\n",
            "1 곱하기 3 = 3\n",
            "2 곱하기 4 = 8\n"
          ]
        }
      ]
    },
    {
      "cell_type": "code",
      "source": [
        "def func3():\n",
        "    return \"abcdefg\"\n",
        "\n",
        "#함수 호출\n",
        "#DH\n",
        "a = func3()\n",
        "print(a, \"GG\", sep=\" \")"
      ],
      "metadata": {
        "colab": {
          "base_uri": "https://localhost:8080/"
        },
        "id": "RwtdiR030dbq",
        "outputId": "9c8cbcc1-1d0d-4f29-a8e1-d3437f6d92b8"
      },
      "execution_count": 8,
      "outputs": [
        {
          "output_type": "stream",
          "name": "stdout",
          "text": [
            "abcdefg GG\n"
          ]
        }
      ]
    },
    {
      "cell_type": "code",
      "source": [
        "def func4(a, b):\n",
        "    return a * b\n",
        "#함수 호출\n",
        "#DH\n",
        "a = input()\n",
        "c = func4(input(a), 9)\n",
        "print(c)\n"
      ],
      "metadata": {
        "colab": {
          "base_uri": "https://localhost:8080/"
        },
        "id": "1UjvmTX408vF",
        "outputId": "699af1a6-b972-45e7-b080-54a411ae294a"
      },
      "execution_count": 18,
      "outputs": [
        {
          "output_type": "stream",
          "name": "stdout",
          "text": [
            "3\n",
            "39\n",
            "999999999\n"
          ]
        }
      ]
    },
    {
      "cell_type": "code",
      "source": [
        "# for i in range(1,10):\n",
        "#     print(f'{2} x {i} = {2 * i}')\n",
        "# for i in range(1,10): #DH\n",
        "#     print(f'{3} x {i} = {3 * i}')\n",
        "\n",
        "  # print()\n",
        "  # print()\n",
        "  # print()\n",
        "\n",
        "def gugudan(num):\n",
        "    for i in range(1, 10):\n",
        "        print(f'{num} x {i} = {num * i}')\n",
        "    print()\n",
        "# 구구단 출력\n",
        "#DH\n",
        "gugudan(2)\n",
        "\n",
        "gugudan(3)"
      ],
      "metadata": {
        "colab": {
          "base_uri": "https://localhost:8080/"
        },
        "id": "on7FELZr6WKT",
        "outputId": "e0b7e682-1357-49f5-a4c2-1ba58a275600"
      },
      "execution_count": 29,
      "outputs": [
        {
          "output_type": "stream",
          "name": "stdout",
          "text": [
            "2 x 1 = 2\n",
            "2 x 2 = 4\n",
            "2 x 3 = 6\n",
            "2 x 4 = 8\n",
            "2 x 5 = 10\n",
            "2 x 6 = 12\n",
            "2 x 7 = 14\n",
            "2 x 8 = 16\n",
            "2 x 9 = 18\n",
            "\n",
            "3 x 1 = 3\n",
            "3 x 2 = 6\n",
            "3 x 3 = 9\n",
            "3 x 4 = 12\n",
            "3 x 5 = 15\n",
            "3 x 6 = 18\n",
            "3 x 7 = 21\n",
            "3 x 8 = 24\n",
            "3 x 9 = 27\n",
            "\n"
          ]
        }
      ]
    },
    {
      "cell_type": "code",
      "source": [
        "def func1(a , b=5, c=10):\n",
        "    return a + b + c\n",
        "\n",
        "print(func1(1, 2, 3)) # 1 + 5 = 6\n",
        "print(func1(1,2))     # 1 + 2 = 13\n",
        "print(func1(1))       # 1 + 5 = 10 #DH\n",
        "print()"
      ],
      "metadata": {
        "colab": {
          "base_uri": "https://localhost:8080/"
        },
        "id": "TwGoRNa08Zcx",
        "outputId": "1ca9e0ff-29a4-41b4-cc5c-d29fb81e4bf7"
      },
      "execution_count": 5,
      "outputs": [
        {
          "output_type": "stream",
          "name": "stdout",
          "text": [
            "6\n",
            "13\n",
            "16\n",
            "\n"
          ]
        }
      ]
    },
    {
      "cell_type": "code",
      "source": [
        "def func2(a=10 , b=20):\n",
        "    return a + b\n",
        "\n",
        "print(func2(1,2))  # 1 + 2\n",
        "print(func2(1)) # 1 + 20\n",
        "print(func2()) #DH"
      ],
      "metadata": {
        "colab": {
          "base_uri": "https://localhost:8080/"
        },
        "id": "VFDd6vErfFS6",
        "outputId": "165c942a-dcf3-4d27-e40f-4edf4c859995"
      },
      "execution_count": 7,
      "outputs": [
        {
          "output_type": "stream",
          "name": "stdout",
          "text": [
            "3\n",
            "21\n",
            "30\n"
          ]
        }
      ]
    },
    {
      "cell_type": "code",
      "source": [
        "# def func3(a = 10,b,c):\n",
        "#     return a + b + c\n",
        "#     func3(1,2)    # 1이 a이고 b에 2가 들어가는 거겠지?\n",
        "#                   # 뭘 원하는 거야?\n",
        "#     func3( ,1, 2) # 뭐 이렇게 호출해야 하나?"
      ],
      "metadata": {
        "id": "T0pZLh1FgHNK"
      },
      "execution_count": 10,
      "outputs": []
    },
    {
      "cell_type": "code",
      "source": [
        "def func6(*args):\n",
        "    a = 0\n",
        "    for i in args:\n",
        "        a = a + i\n",
        "    return a\n",
        "\n",
        "b = func6(1, 5)\n",
        "print(b)\n",
        "\n",
        "c = func6(2, 3, 4, 5) #DH\n",
        "print(c)\n",
        "\n",
        "d = func6(1,2,3,4,5,4,3,2,1)\n",
        "print(d)\n",
        "\n",
        "e = func6()\n",
        "print(e)"
      ],
      "metadata": {
        "colab": {
          "base_uri": "https://localhost:8080/"
        },
        "id": "qpEgSvjmg5Yk",
        "outputId": "2e06ffd7-2006-4062-801b-68b02e054c0a"
      },
      "execution_count": 13,
      "outputs": [
        {
          "output_type": "stream",
          "name": "stdout",
          "text": [
            "6\n",
            "14\n",
            "25\n",
            "0\n"
          ]
        }
      ]
    },
    {
      "cell_type": "code",
      "source": [
        "def test(*val):\n",
        "    for i in val:\n",
        "        print(i) #DH\n",
        "\n",
        "test(1, 'a', 'c', 3)"
      ],
      "metadata": {
        "colab": {
          "base_uri": "https://localhost:8080/"
        },
        "id": "O9hs5ATEiDOR",
        "outputId": "776c27ef-6f3d-4766-cb3f-312e75e1d455"
      },
      "execution_count": 14,
      "outputs": [
        {
          "output_type": "stream",
          "name": "stdout",
          "text": [
            "1\n",
            "a\n",
            "c\n",
            "3\n"
          ]
        }
      ]
    },
    {
      "cell_type": "code",
      "source": [
        "\n",
        "def sum_mul(choice, *val):\n",
        "    if choice == 'sum':\n",
        "        result = 0\n",
        "        for i in val:\n",
        "          result = result + i\n",
        "    elif choice == 'mul':\n",
        "        result = 1 #DH\n",
        "        for i in val:\n",
        "          result = result * i\n",
        "    print()\n",
        "    return result\n",
        "\n",
        "print(sum_mul('sum', 1,2,3,4,5 ))\n",
        "print(sum_mul('mul', 1,2,3,4,5 ))"
      ],
      "metadata": {
        "colab": {
          "base_uri": "https://localhost:8080/"
        },
        "id": "6QB1e91hia3s",
        "outputId": "d4b4bb54-efb0-489c-f119-570cb7d87120"
      },
      "execution_count": 16,
      "outputs": [
        {
          "output_type": "stream",
          "name": "stdout",
          "text": [
            "\n",
            "15\n",
            "\n",
            "120\n"
          ]
        }
      ]
    },
    {
      "cell_type": "code",
      "source": [
        "def comp(score=0):\n",
        "    if score == 0:\n",
        "        return 0\n",
        "    elif score > 50:\n",
        "        return 2\n",
        "    else:\n",
        "        return 1  #DH\n",
        "\n",
        "grade = comp(40)\n",
        "print(\"Grade is \", grade, \" for \", 40)\n",
        "\n",
        "grade = comp(80)\n",
        "print(\"Grade is \", grade, \" for \", 80)\n",
        "\n",
        "grade = comp()\n",
        "print(\"Grade is \", grade, \" for \", \"for no score\")"
      ],
      "metadata": {
        "colab": {
          "base_uri": "https://localhost:8080/"
        },
        "id": "nnBiEkA-jBoz",
        "outputId": "40f45fdf-c527-4ddb-cdf8-56056ea7efef"
      },
      "execution_count": 17,
      "outputs": [
        {
          "output_type": "stream",
          "name": "stdout",
          "text": [
            "Grade is  1  for  40\n",
            "Grade is  2  for  80\n",
            "Grade is  0  for  for no score\n"
          ]
        }
      ]
    },
    {
      "cell_type": "code",
      "source": [
        "def report(name, age, score):\n",
        "    print(name, score)\n",
        "\n",
        "report(age =20, name=\"DongHyun\", score=95)\n",
        "report(\"Donghyun\", 20, 95)"
      ],
      "metadata": {
        "colab": {
          "base_uri": "https://localhost:8080/"
        },
        "id": "I9CSiDzAjX7p",
        "outputId": "976d493e-e397-400f-90d1-30f86242d05d"
      },
      "execution_count": 18,
      "outputs": [
        {
          "output_type": "stream",
          "name": "stdout",
          "text": [
            "DongHyun 95\n",
            "Donghyun 95\n"
          ]
        }
      ]
    }
  ]
}