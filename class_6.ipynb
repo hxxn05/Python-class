{
  "nbformat": 4,
  "nbformat_minor": 0,
  "metadata": {
    "colab": {
      "provenance": [],
      "authorship_tag": "ABX9TyNmnLSI1kktuEEUbfDL+6e7",
      "include_colab_link": true
    },
    "kernelspec": {
      "name": "python3",
      "display_name": "Python 3"
    },
    "language_info": {
      "name": "python"
    }
  },
  "cells": [
    {
      "cell_type": "markdown",
      "metadata": {
        "id": "view-in-github",
        "colab_type": "text"
      },
      "source": [
        "<a href=\"https://colab.research.google.com/github/hxxn05/Python-class/blob/main/class_6.ipynb\" target=\"_parent\"><img src=\"https://colab.research.google.com/assets/colab-badge.svg\" alt=\"Open In Colab\"/></a>"
      ]
    },
    {
      "cell_type": "code",
      "execution_count": null,
      "metadata": {
        "colab": {
          "base_uri": "https://localhost:8080/"
        },
        "id": "lDjsG9HT6QBM",
        "outputId": "cef750f7-fde5-4390-a474-f06811c66e91"
      },
      "outputs": [
        {
          "output_type": "stream",
          "name": "stdout",
          "text": [
            "How old are you 20\n",
            " 20 years old\n"
          ]
        }
      ],
      "source": [
        "str = input(\"How old are you\")\n",
        "print(str , 'years old', sep=' ')"
      ]
    },
    {
      "cell_type": "code",
      "source": [
        "x = int(input('number : '))\n",
        "print(x)"
      ],
      "metadata": {
        "colab": {
          "base_uri": "https://localhost:8080/"
        },
        "id": "c3ofDB2nDguw",
        "outputId": "dde617ef-dbd1-40c9-be3f-4f98e1774401"
      },
      "execution_count": 1,
      "outputs": [
        {
          "output_type": "stream",
          "name": "stdout",
          "text": [
            "number : 5\n",
            "5\n"
          ]
        }
      ]
    },
    {
      "cell_type": "code",
      "source": [
        "x = float(input('number : '))\n",
        "print(x)"
      ],
      "metadata": {
        "colab": {
          "base_uri": "https://localhost:8080/"
        },
        "id": "CoGlLTt5ETnh",
        "outputId": "0c026f48-b970-41ab-daef-24aa4d5b871c"
      },
      "execution_count": 2,
      "outputs": [
        {
          "output_type": "stream",
          "name": "stdout",
          "text": [
            "number : 15\n",
            "15.0\n"
          ]
        }
      ]
    },
    {
      "cell_type": "code",
      "source": [
        "year = input (\"this year : \")\n",
        "year = eval(year)\n",
        "year = year + 1\n",
        "print(\"Next year:\", year)"
      ],
      "metadata": {
        "colab": {
          "base_uri": "https://localhost:8080/"
        },
        "id": "DwJAklJPETyV",
        "outputId": "e24be946-0f7e-4022-c9ff-4151eaf0518c"
      },
      "execution_count": 3,
      "outputs": [
        {
          "output_type": "stream",
          "name": "stdout",
          "text": [
            "this year : 2024\n",
            "Next year: 2025\n"
          ]
        }
      ]
    },
    {
      "cell_type": "code",
      "source": [
        "i = 0\n",
        "result = 0\n",
        "while i < 5:\n",
        "  print(f'{i} 번째',end=\" \")\n",
        "  a = input(\"성적 입력 : \")\n",
        "  result += int(a)\n",
        "  i += 1\n",
        "\n",
        "print(f'합 : {result}')\n",
        "print(f'평균 : {result / 5}')9"
      ],
      "metadata": {
        "colab": {
          "base_uri": "https://localhost:8080/"
        },
        "id": "CFsrmsEKEUC5",
        "outputId": "766d4723-066c-42ad-c2d8-064c63f3bcd1"
      },
      "execution_count": 5,
      "outputs": [
        {
          "output_type": "stream",
          "name": "stdout",
          "text": [
            "0 번째 성적 입력 : 99\n",
            "1 번째 성적 입력 : 98\n",
            "2 번째 성적 입력 : 100\n",
            "3 번째 성적 입력 : 99\n",
            "4 번째 성적 입력 : 99\n",
            "합 : 495\n",
            "평균 : 99.0\n"
          ]
        }
      ]
    },
    {
      "cell_type": "code",
      "source": [
        "test_list = ['one', 'two', 'three']\n",
        "for i in test_list:\n",
        "  print(i)"
      ],
      "metadata": {
        "colab": {
          "base_uri": "https://localhost:8080/"
        },
        "id": "UHFzfLMsEUOp",
        "outputId": "05a65849-fc69-4cae-c05f-73e6f2dd5b39"
      },
      "execution_count": 6,
      "outputs": [
        {
          "output_type": "stream",
          "name": "stdout",
          "text": [
            "one\n",
            "two\n",
            "three\n"
          ]
        }
      ]
    },
    {
      "cell_type": "code",
      "source": [
        "for i in range(1, 10):\n",
        "  print(i)"
      ],
      "metadata": {
        "colab": {
          "base_uri": "https://localhost:8080/"
        },
        "id": "RXKYu_mpE_or",
        "outputId": "f0f00f07-6781-4367-9b9c-ad6d5a46f544"
      },
      "execution_count": 7,
      "outputs": [
        {
          "output_type": "stream",
          "name": "stdout",
          "text": [
            "1\n",
            "2\n",
            "3\n",
            "4\n",
            "5\n",
            "6\n",
            "7\n",
            "8\n",
            "9\n"
          ]
        }
      ]
    },
    {
      "cell_type": "code",
      "source": [
        "result = 0\n",
        "for a in range(1, 101):  #1 ~ 100\n",
        "\n",
        "  result = result + a\n",
        "  print(f\"{a} {result}\")\n",
        "\n",
        "print(result)"
      ],
      "metadata": {
        "colab": {
          "base_uri": "https://localhost:8080/"
        },
        "id": "yyKvnqS1G-Ek",
        "outputId": "f0b9a1f4-8e12-40a6-e7cb-3aa030560eb4"
      },
      "execution_count": 11,
      "outputs": [
        {
          "output_type": "stream",
          "name": "stdout",
          "text": [
            "1 1\n",
            "2 3\n",
            "3 6\n",
            "4 10\n",
            "5 15\n",
            "6 21\n",
            "7 28\n",
            "8 36\n",
            "9 45\n",
            "10 55\n",
            "11 66\n",
            "12 78\n",
            "13 91\n",
            "14 105\n",
            "15 120\n",
            "16 136\n",
            "17 153\n",
            "18 171\n",
            "19 190\n",
            "20 210\n",
            "21 231\n",
            "22 253\n",
            "23 276\n",
            "24 300\n",
            "25 325\n",
            "26 351\n",
            "27 378\n",
            "28 406\n",
            "29 435\n",
            "30 465\n",
            "31 496\n",
            "32 528\n",
            "33 561\n",
            "34 595\n",
            "35 630\n",
            "36 666\n",
            "37 703\n",
            "38 741\n",
            "39 780\n",
            "40 820\n",
            "41 861\n",
            "42 903\n",
            "43 946\n",
            "44 990\n",
            "45 1035\n",
            "46 1081\n",
            "47 1128\n",
            "48 1176\n",
            "49 1225\n",
            "50 1275\n",
            "51 1326\n",
            "52 1378\n",
            "53 1431\n",
            "54 1485\n",
            "55 1540\n",
            "56 1596\n",
            "57 1653\n",
            "58 1711\n",
            "59 1770\n",
            "60 1830\n",
            "61 1891\n",
            "62 1953\n",
            "63 2016\n",
            "64 2080\n",
            "65 2145\n",
            "66 2211\n",
            "67 2278\n",
            "68 2346\n",
            "69 2415\n",
            "70 2485\n",
            "71 2556\n",
            "72 2628\n",
            "73 2701\n",
            "74 2775\n",
            "75 2850\n",
            "76 2926\n",
            "77 3003\n",
            "78 3081\n",
            "79 3160\n",
            "80 3240\n",
            "81 3321\n",
            "82 3403\n",
            "83 3486\n",
            "84 3570\n",
            "85 3655\n",
            "86 3741\n",
            "87 3828\n",
            "88 3916\n",
            "89 4005\n",
            "90 4095\n",
            "91 4186\n",
            "92 4278\n",
            "93 4371\n",
            "94 4465\n",
            "95 4560\n",
            "96 4656\n",
            "97 4753\n",
            "98 4851\n",
            "99 4950\n",
            "100 5050\n",
            "5050\n"
          ]
        }
      ]
    },
    {
      "cell_type": "code",
      "source": [
        "result = 0\n",
        "for a in range(1,101):  # 1 ~ 100\n",
        "  result = result + a     # a를 더해주고\n",
        "  print(f'{a} : sum = {result}')          # 그때의 a값을 출력\n",
        "  if result > 100:      # result가 100이 넘었을때\n",
        "\n",
        "      break\n",
        "\n",
        "print(result)"
      ],
      "metadata": {
        "colab": {
          "base_uri": "https://localhost:8080/"
        },
        "id": "U2-Vg7YvHFzH",
        "outputId": "4b7eee76-2f5f-4964-a94c-ef0bdd957832"
      },
      "execution_count": 13,
      "outputs": [
        {
          "output_type": "stream",
          "name": "stdout",
          "text": [
            "1 : sum = 1\n",
            "2 : sum = 3\n",
            "3 : sum = 6\n",
            "4 : sum = 10\n",
            "5 : sum = 15\n",
            "6 : sum = 21\n",
            "7 : sum = 28\n",
            "8 : sum = 36\n",
            "9 : sum = 45\n",
            "10 : sum = 55\n",
            "11 : sum = 66\n",
            "12 : sum = 78\n",
            "13 : sum = 91\n",
            "14 : sum = 105\n",
            "105\n"
          ]
        }
      ]
    },
    {
      "cell_type": "code",
      "source": [
        "index = 0\n",
        "s = \"BlockDMask\"\n",
        "for a in s:\n",
        "  print(a,end=' ')\n",
        "  if a == 'k':\n",
        "    break     # 'k'를 찾았으니 for문에서 나와랏!\n",
        "\n",
        "  index = index + 1\n",
        "\n",
        "print(index)   # 'k'가 첫번째로 존재하는 위치 출력"
      ],
      "metadata": {
        "colab": {
          "base_uri": "https://localhost:8080/"
        },
        "id": "cnsYqxm_Hff0",
        "outputId": "88cc6f99-108f-4e55-a8ee-dd4db9739385"
      },
      "execution_count": 14,
      "outputs": [
        {
          "output_type": "stream",
          "name": "stdout",
          "text": [
            "B l o c k 4\n"
          ]
        }
      ]
    },
    {
      "cell_type": "code",
      "source": [
        "student = [180, 170, 164, 199, 182, 172, 177]\n",
        "for a in student:\n",
        "  if a > 170:\n",
        "\n",
        "    continue  # 키가 170보다 크면 continue\n",
        "\n",
        "  print(a)"
      ],
      "metadata": {
        "colab": {
          "base_uri": "https://localhost:8080/"
        },
        "id": "usroE7VSHrog",
        "outputId": "1aa70438-d385-41e9-dce1-4b1ebfb7e8ce"
      },
      "execution_count": 15,
      "outputs": [
        {
          "output_type": "stream",
          "name": "stdout",
          "text": [
            "170\n",
            "164\n"
          ]
        }
      ]
    },
    {
      "cell_type": "code",
      "source": [
        "result = 0\n",
        "for a in range(1,101):  #1 ~ 100\n",
        "  if a % 2 == 0:        #2로 나누었을때 나머지가 1\n",
        "\n",
        "      continue\n",
        "  result = result + a\n",
        "\n",
        "print(result)"
      ],
      "metadata": {
        "colab": {
          "base_uri": "https://localhost:8080/"
        },
        "id": "T_SwrIWtH8Md",
        "outputId": "37ef0c27-baf8-4513-d49a-3c5fd4dde419"
      },
      "execution_count": 16,
      "outputs": [
        {
          "output_type": "stream",
          "name": "stdout",
          "text": [
            "2500\n"
          ]
        }
      ]
    },
    {
      "cell_type": "code",
      "source": [
        "l = ['Alice' , 'Bob' , 'Charlie']\n",
        "\n",
        "for name in l:\n",
        "    if name == 'Bob':\n",
        "        print('!!BREAK!!')\n",
        "        break\n",
        "    print(name)\n",
        "else:\n",
        "    print('!!FINISH!!')"
      ],
      "metadata": {
        "colab": {
          "base_uri": "https://localhost:8080/"
        },
        "id": "HI1s6ttsIBR_",
        "outputId": "65d8f5ab-0420-4d6a-a0b6-a5ca1f514960"
      },
      "execution_count": 17,
      "outputs": [
        {
          "output_type": "stream",
          "name": "stdout",
          "text": [
            "Alice\n",
            "!!BREAK!!\n"
          ]
        }
      ]
    },
    {
      "cell_type": "code",
      "source": [
        "l = ['Alice', 'Bob', 'Charlie']\n",
        "\n",
        "for name in l:\n",
        "    print(name)\n",
        "\n",
        "for i, name in enumerate(l):\n",
        "    print(i, name)"
      ],
      "metadata": {
        "colab": {
          "base_uri": "https://localhost:8080/"
        },
        "id": "RuHy-xQHII0W",
        "outputId": "8fd3028a-9f01-4782-b224-2c250fe0b322"
      },
      "execution_count": 18,
      "outputs": [
        {
          "output_type": "stream",
          "name": "stdout",
          "text": [
            "Alice\n",
            "Bob\n",
            "Charlie\n",
            "0 Alice\n",
            "1 Bob\n",
            "2 Charlie\n"
          ]
        }
      ]
    },
    {
      "cell_type": "code",
      "source": [
        "for i, name in enumerate(l, 1):\n",
        "    print(i, name)\n",
        "\n",
        "for i, name in enumerate(l, 42):\n",
        "    print(i, name)"
      ],
      "metadata": {
        "colab": {
          "base_uri": "https://localhost:8080/"
        },
        "id": "s9gq1ItPIOYn",
        "outputId": "5c4381bf-e346-4f6f-f9a1-62b2f7b855f5"
      },
      "execution_count": 19,
      "outputs": [
        {
          "output_type": "stream",
          "name": "stdout",
          "text": [
            "1 Alice\n",
            "2 Bob\n",
            "3 Charlie\n",
            "42 Alice\n",
            "43 Bob\n",
            "44 Charlie\n"
          ]
        }
      ]
    },
    {
      "cell_type": "code",
      "source": [
        "sr = ['father', 'mother', 'brother']\n",
        "cnt = 0\n",
        "for s in sr:\n",
        "        for c in s:\n",
        "            if c == 'r':\n",
        "                cnt += 1\n",
        "print(cnt)"
      ],
      "metadata": {
        "colab": {
          "base_uri": "https://localhost:8080/"
        },
        "id": "FQpYtqFuIXQ8",
        "outputId": "199f5b4c-715e-4f34-ebe7-afaa85078c14"
      },
      "execution_count": 20,
      "outputs": [
        {
          "output_type": "stream",
          "name": "stdout",
          "text": [
            "4\n"
          ]
        }
      ]
    },
    {
      "cell_type": "code",
      "source": [
        "a = []\n",
        "\n",
        "for i in range(10):\n",
        "    a.append(0)\n",
        "\n",
        "print(a)"
      ],
      "metadata": {
        "colab": {
          "base_uri": "https://localhost:8080/"
        },
        "id": "tQ3cOnhUIdmv",
        "outputId": "57d746f5-cd34-4d39-fac0-46abb6a93864"
      },
      "execution_count": 21,
      "outputs": [
        {
          "output_type": "stream",
          "name": "stdout",
          "text": [
            "[0, 0, 0, 0, 0, 0, 0, 0, 0, 0]\n"
          ]
        }
      ]
    },
    {
      "cell_type": "code",
      "source": [
        "a = []\n",
        "\n",
        "for i in range(3):\n",
        "    line = []\n",
        "    for j in range(2):\n",
        "        line.append(0)\n",
        "    a.append(line)\n",
        "\n",
        "print(a)"
      ],
      "metadata": {
        "colab": {
          "base_uri": "https://localhost:8080/"
        },
        "id": "BwCtjrldIg4M",
        "outputId": "657caeac-7a47-4bca-94ee-f9d342fd9d42"
      },
      "execution_count": 22,
      "outputs": [
        {
          "output_type": "stream",
          "name": "stdout",
          "text": [
            "[[0, 0], [0, 0], [0, 0]]\n"
          ]
        }
      ]
    }
  ]
}