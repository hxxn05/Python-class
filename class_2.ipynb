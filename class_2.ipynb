{
  "nbformat": 4,
  "nbformat_minor": 0,
  "metadata": {
    "colab": {
      "provenance": [],
      "authorship_tag": "ABX9TyOS3UdAp40/yf+lZq5P+86i",
      "include_colab_link": true
    },
    "kernelspec": {
      "name": "python3",
      "display_name": "Python 3"
    },
    "language_info": {
      "name": "python"
    }
  },
  "cells": [
    {
      "cell_type": "markdown",
      "metadata": {
        "id": "view-in-github",
        "colab_type": "text"
      },
      "source": [
        "<a href=\"https://colab.research.google.com/github/hxxn05/Python-class/blob/main/class_2.ipynb\" target=\"_parent\"><img src=\"https://colab.research.google.com/assets/colab-badge.svg\" alt=\"Open In Colab\"/></a>"
      ]
    },
    {
      "cell_type": "code",
      "execution_count": null,
      "metadata": {
        "colab": {
          "base_uri": "https://localhost:8080/"
        },
        "id": "4KjmIIQcKl3l",
        "outputId": "72fc3061-658f-4881-fefb-b442f9f34c1a"
      },
      "outputs": [
        {
          "output_type": "stream",
          "name": "stdout",
          "text": [
            "pig\n",
            "dad\n",
            "100000\n",
            "pigdad\n",
            "pig+b\n"
          ]
        }
      ],
      "source": [
        "watch = 100000\n",
        "a = 'pig' #DH\n",
        "b = 'dad'\n",
        "\n",
        "print(a) #DH\n",
        "print(b)\n",
        "print(watch)\n",
        "print(a+b)\n",
        "print(a+'+b')"
      ]
    },
    {
      "cell_type": "code",
      "source": [
        "a = 10 #DH\n",
        "a,b = (10,20)\n",
        "[a,b] = [10,20]\n",
        "a = b =10\n",
        "a = None"
      ],
      "metadata": {
        "id": "D-mGWWnuPCHo"
      },
      "execution_count": null,
      "outputs": []
    },
    {
      "cell_type": "code",
      "source": [
        "a = 10 #DH\n",
        "b = 2000\n",
        "a,b = b,a\n"
      ],
      "metadata": {
        "id": "JspSCc12PYU3"
      },
      "execution_count": null,
      "outputs": []
    },
    {
      "cell_type": "code",
      "source": [
        "a = [10, 20, 30] #DH\n",
        "\n",
        "a = [10, 20, 30]\n",
        "b = a\n",
        "\n",
        "a = [10, 20, 30]\n",
        "b=a\n",
        "\n",
        "a = [10, 20, 30]\n",
        "b = a\n",
        "a[0] = 200\n",
        "print(b)\n"
      ],
      "metadata": {
        "colab": {
          "base_uri": "https://localhost:8080/"
        },
        "id": "ilEpszRPPdfg",
        "outputId": "aa2604cc-8e6d-4df6-cc7c-c953ef12b650"
      },
      "execution_count": null,
      "outputs": [
        {
          "output_type": "stream",
          "name": "stdout",
          "text": [
            "[200, 20, 30]\n"
          ]
        }
      ]
    },
    {
      "cell_type": "code",
      "source": [
        "aa = 1 #DH\n",
        "bb = 100\n",
        "\n",
        "aa,bb = bb,aa\n",
        "print(aa)\n",
        "print(bb)"
      ],
      "metadata": {
        "colab": {
          "base_uri": "https://localhost:8080/"
        },
        "id": "_eV6OVmFQus1",
        "outputId": "1eb30744-9290-4653-d95a-d72b64189bab"
      },
      "execution_count": null,
      "outputs": [
        {
          "output_type": "stream",
          "name": "stdout",
          "text": [
            "100\n",
            "1\n"
          ]
        }
      ]
    },
    {
      "cell_type": "code",
      "source": [
        "a1 = [10,20,30] # DH\n",
        "b1 = a1\n",
        "a1[0] = 200\n",
        "print(b1)"
      ],
      "metadata": {
        "colab": {
          "base_uri": "https://localhost:8080/"
        },
        "id": "T8LRF5RcRXnC",
        "outputId": "272a6f9e-2101-46da-df80-e4d7ea3821fd"
      },
      "execution_count": null,
      "outputs": [
        {
          "output_type": "stream",
          "name": "stdout",
          "text": [
            "[200, 20, 30]\n"
          ]
        }
      ]
    },
    {
      "cell_type": "code",
      "source": [
        "# print 사용 예제입니다.\n",
        "\n",
        "print(\"Hello world\")#DH\n",
        "print(\"Hello world\")\n",
        "print(1)\n",
        "print(\"1\")\n",
        "c = 1\n",
        "print(\"c=\"+str(c))\n",
        "print(\"c=\",c)\n",
        "print(\"c={}\".format(c))"
      ],
      "metadata": {
        "id": "NrhRxH3jiLSx",
        "colab": {
          "base_uri": "https://localhost:8080/"
        },
        "outputId": "458adad5-774c-456a-994f-58428f298244"
      },
      "execution_count": 5,
      "outputs": [
        {
          "output_type": "stream",
          "name": "stdout",
          "text": [
            "Hello world\n",
            "Hello world\n",
            "1\n",
            "1\n",
            "c=1\n",
            "c= 1\n",
            "c=1\n"
          ]
        }
      ]
    },
    {
      "cell_type": "code",
      "source": [
        "a = [ 10, 20, 30]\n",
        "b = 1\n",
        "c = 2\n",
        "print(a) #DH\n",
        "print(\"a={}\".format(a))\n",
        "print(\"b={}\".format(b))\n",
        "print(\"a={}, b={}, c={}\".format(a[0], b, c))"
      ],
      "metadata": {
        "colab": {
          "base_uri": "https://localhost:8080/"
        },
        "id": "upOzXnYFeSeE",
        "outputId": "42c21af4-212d-499c-ef53-d2c9126ba471"
      },
      "execution_count": 7,
      "outputs": [
        {
          "output_type": "stream",
          "name": "stdout",
          "text": [
            "[10, 20, 30]\n",
            "a=[10, 20, 30]\n",
            "b=1\n",
            "a=10, b=1, c=2\n"
          ]
        }
      ]
    }
  ]
}