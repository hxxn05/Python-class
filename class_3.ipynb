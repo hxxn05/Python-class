{
  "nbformat": 4,
  "nbformat_minor": 0,
  "metadata": {
    "colab": {
      "provenance": [],
      "authorship_tag": "ABX9TyOiSTKM2LKdKGviV+I1X1p0",
      "include_colab_link": true
    },
    "kernelspec": {
      "name": "python3",
      "display_name": "Python 3"
    },
    "language_info": {
      "name": "python"
    }
  },
  "cells": [
    {
      "cell_type": "markdown",
      "metadata": {
        "id": "view-in-github",
        "colab_type": "text"
      },
      "source": [
        "<a href=\"https://colab.research.google.com/github/hxxn05/Python-class/blob/main/class_3.ipynb\" target=\"_parent\"><img src=\"https://colab.research.google.com/assets/colab-badge.svg\" alt=\"Open In Colab\"/></a>"
      ]
    },
    {
      "cell_type": "code",
      "execution_count": null,
      "metadata": {
        "colab": {
          "base_uri": "https://localhost:8080/"
        },
        "id": "cvn-7IfygErf",
        "outputId": "04cca767-08a5-48f5-a55a-4677614f4793"
      },
      "outputs": [
        {
          "output_type": "stream",
          "name": "stdout",
          "text": [
            "Hello\n",
            "hello everyone\n",
            "helloeveryone\n",
            "hellotest\n"
          ]
        }
      ],
      "source": [
        "print(\"Hello\")\n",
        "print('hello', 'everyone')#DH\n",
        "print('hello'+'everyone')\n",
        "print('hello', end='')\n",
        "print('test')"
      ]
    },
    {
      "cell_type": "code",
      "source": [
        "a = 123\n",
        "b = 'hello'\n",
        "print(a,b)\n",
        "print(a,456,b, 'world')"
      ],
      "metadata": {
        "colab": {
          "base_uri": "https://localhost:8080/"
        },
        "id": "rbSdih-bh9sQ",
        "outputId": "0b6b4054-b9ea-4ebb-af9d-54bbdee0fca7"
      },
      "execution_count": null,
      "outputs": [
        {
          "output_type": "stream",
          "name": "stdout",
          "text": [
            "123 hello\n",
            "123 456 hello world\n"
          ]
        }
      ]
    },
    {
      "cell_type": "code",
      "source": [
        "print('Hello \"Python\"')\n",
        "print(\"Hello 'Python'\")\n",
        "print(\"Hello 'Python!'\") #DH\n",
        "print('Hello'+'Python!')"
      ],
      "metadata": {
        "colab": {
          "base_uri": "https://localhost:8080/"
        },
        "id": "u-EnSDutivRW",
        "outputId": "6c5c9473-37b8-4593-fe28-2f09841839e6"
      },
      "execution_count": null,
      "outputs": [
        {
          "output_type": "stream",
          "name": "stdout",
          "text": [
            "Hello \"Python\"\n",
            "Hello 'Python'\n",
            "Hello 'Python!'\n",
            "HelloPython!\n"
          ]
        }
      ]
    },
    {
      "cell_type": "code",
      "source": [
        "print(\"화면에 직접 출력\")\n",
        "print('ab\\'c')\n",
        "print(\"ab'c\")\n",
        "print(\"ab\")\n",
        "print(\"doesn't\")\n",
        "print('does')\n",
        "print('doesn\\'t')\n",
        "print(\"'string'\")\n",
        "print(\"\\\"string\\\"\")\n",
        "print('\"string\"')"
      ],
      "metadata": {
        "colab": {
          "base_uri": "https://localhost:8080/"
        },
        "id": "8jjse7p68nST",
        "outputId": "5a7ddd0f-2f74-4aef-9e89-229fae4c75a2"
      },
      "execution_count": null,
      "outputs": [
        {
          "output_type": "stream",
          "name": "stdout",
          "text": [
            "화면에 직접 출력\n",
            "ab'c\n",
            "ab'c\n",
            "ab\n",
            "doesn't\n",
            "does\n",
            "doesn't\n",
            "'string'\n",
            "\"string\"\n",
            "\"string\"\n"
          ]
        }
      ]
    },
    {
      "cell_type": "code",
      "source": [
        "s1 = '화면을 직접 출력'\n",
        "s2 = 'ab\\c'\n",
        "s3 = 'does'\n",
        "print(s1)\n",
        "print(s2)\n",
        "print(s3) #DH\n",
        "print(s1[0])  #첫 글자\n",
        "print(s1[1])  #두 번째 글자\n",
        "print(s3[1:3])\n",
        "print(s3[-1]) #마지막 글자\n",
        "print(s3[-2])  #뒤에서 두 번째\n"
      ],
      "metadata": {
        "colab": {
          "base_uri": "https://localhost:8080/"
        },
        "id": "-tRh7gTc_fRV",
        "outputId": "4135dc78-84c2-4b02-c35e-bbe2ab02200c"
      },
      "execution_count": null,
      "outputs": [
        {
          "output_type": "stream",
          "name": "stdout",
          "text": [
            "화면을 직접 출력\n",
            "ab\\c\n",
            "does\n",
            "화\n",
            "면\n",
            "oe\n",
            "s\n",
            "e\n"
          ]
        }
      ]
    },
    {
      "cell_type": "code",
      "source": [
        "a = 2\n",
        "b = 3.1456\n",
        "c = a + b\n",
        "print(a)\n",
        "print(b)\n",
        "print(c) #DH\n",
        "print(round(c, 3))\n",
        "print(\"%.4f\" % (c))\n",
        "print(a + b)\n",
        "print(a, b, a + b, c)\n",
        "d = 1e2\n",
        "e = 1e-2\n",
        "print(d)\n",
        "print(e)\n",
        "\n"
      ],
      "metadata": {
        "colab": {
          "base_uri": "https://localhost:8080/"
        },
        "id": "K2R7Gr3kA903",
        "outputId": "26408055-25e9-43b0-e7ef-cc4de92c935b"
      },
      "execution_count": null,
      "outputs": [
        {
          "output_type": "stream",
          "name": "stdout",
          "text": [
            "2\n",
            "3.1456\n",
            "5.1456\n",
            "5.146\n",
            "5.1456\n",
            "5.1456\n",
            "2 3.1456 5.1456 5.1456\n",
            "100.0\n",
            "0.01\n"
          ]
        }
      ]
    },
    {
      "cell_type": "code",
      "source": [
        "item1 = '사과'\n",
        "price1 = 1000\n",
        "item2 = '바나나'\n",
        "price2 = 500 #DH\n",
        "str1 = '{0}는 {1}원입니다.'\n",
        "print(str1.format(item1, price1))\n",
        "print(str1.format(item2, price2)) #DH\n",
        "\n",
        "\n",
        "print(' ')\n",
        "print(' ')\n",
        "print(' ')\n",
        "print(' ')\n",
        "item1 = '사과'\n",
        "price1 = 1000\n",
        "item2 = '바나나' #DH\n",
        "price2 = 500\n",
        "print(item1, price1)\n",
        "print(item2, price2)\n",
        "\n",
        "print(' ')\n",
        "print(' ')\n",
        "print(' ')\n",
        "print(' ')\n",
        "\n",
        "str2 = '%s는 %d원입니다.'\n",
        "print(str2%(item1,price1))\n",
        "print(str2%(item2,price2))\n"
      ],
      "metadata": {
        "colab": {
          "base_uri": "https://localhost:8080/"
        },
        "id": "sUdzl9T7HlWf",
        "outputId": "d4703495-919c-4097-ad1e-f7a0d952c8ce"
      },
      "execution_count": null,
      "outputs": [
        {
          "output_type": "stream",
          "name": "stdout",
          "text": [
            "사과는 1000원입니다.\n",
            "바나나는 500원입니다.\n",
            " \n",
            " \n",
            " \n",
            " \n",
            "사과 1000\n",
            "바나나 500\n",
            " \n",
            " \n",
            " \n",
            " \n",
            "사과는 1000원입니다.\n",
            "바나나는 500원입니다.\n"
          ]
        }
      ]
    }
  ]
}