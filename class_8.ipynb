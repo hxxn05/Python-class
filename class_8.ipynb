{
  "nbformat": 4,
  "nbformat_minor": 0,
  "metadata": {
    "colab": {
      "provenance": [],
      "authorship_tag": "ABX9TyONmV0FK92EF7WUJ7n4AQ1W",
      "include_colab_link": true
    },
    "kernelspec": {
      "name": "python3",
      "display_name": "Python 3"
    },
    "language_info": {
      "name": "python"
    }
  },
  "cells": [
    {
      "cell_type": "markdown",
      "metadata": {
        "id": "view-in-github",
        "colab_type": "text"
      },
      "source": [
        "<a href=\"https://colab.research.google.com/github/hxxn05/Python-class/blob/main/class_8.ipynb\" target=\"_parent\"><img src=\"https://colab.research.google.com/assets/colab-badge.svg\" alt=\"Open In Colab\"/></a>"
      ]
    },
    {
      "cell_type": "code",
      "execution_count": 1,
      "metadata": {
        "colab": {
          "base_uri": "https://localhost:8080/"
        },
        "id": "lWCWHI_LxqrV",
        "outputId": "e2d6c353-c440-4f80-aaa6-c503bbdfe848"
      },
      "outputs": [
        {
          "output_type": "stream",
          "name": "stdout",
          "text": [
            "True\n",
            "True\n",
            "False\n",
            "False\n",
            "True\n",
            "True\n"
          ]
        }
      ],
      "source": [
        "text1 = \"네이스123\"\n",
        "text2 = \"123123\"\n",
        "text3 = \"!@#$\"\n",
        "text4 = \"!@#$1234\"   #DH\n",
        "text5 = \"wtf\"\n",
        "text6 = \"wtf123123\"\n",
        "print(text1.isalnum())\n",
        "print(text2.isalnum())\n",
        "print(text3.isalnum())\n",
        "print(text4.isalnum())\n",
        "print(text5.isalnum())\n",
        "print(text6.isalnum())\n"
      ]
    },
    {
      "cell_type": "code",
      "source": [
        "text = \"!#$$!@$!!!!!!!!@$#23142165123^%#$$@#%$##@$@#$@#$@#$@#$@#$네@#이$@#$#@$@#$@#스\"\n",
        "text1 = \"네이스\"\n",
        "text2 = \"123123\"\n",
        "text3 = \"!@#$\"\n",
        "check = \"\"\n",
        "print(text1.isalpha())\n",
        "print(text2.isalpha()) #Dh\n",
        "print(text3.isalpha())\n",
        "for i in text:\n",
        "    if i.isalpha():\n",
        "        check += i\n",
        "print(check)\n"
      ],
      "metadata": {
        "colab": {
          "base_uri": "https://localhost:8080/"
        },
        "id": "cxubLN-g15g8",
        "outputId": "a6fae0dd-621f-488f-e1c8-07af8fb0f80d"
      },
      "execution_count": 8,
      "outputs": [
        {
          "output_type": "stream",
          "name": "stdout",
          "text": [
            "True\n",
            "False\n",
            "False\n",
            "네이스\n"
          ]
        }
      ]
    },
    {
      "cell_type": "code",
      "source": [
        "a = \"BlockDMask\" # 문자로만 이루어짐\n",
        "b = \"1234BLOG\"   # 문자 + 숫자\n",
        "c = \"20240425\"   # 숫자\n",
        "d = \"-0103\"      # 음수\n",
        "e = \"2.005\"      # 소수점\n",
        "f = \"5^3\"          # 5의 3제곱 기호 숫자\n",
        "g = \"3/7\"   # 수학 기로 숫자 3/7\n",
        "h = \"0\"   # 0\n",
        "i = \"0123\" #DH\n",
        "# 0으로 시작한 숫자\n",
        "# str.isdigit(\"문자열\")\n",
        "print(f\"str.isdigit('{a})') : {str.isdigit(a)}\")\n",
        "print(f\"str.isdigit('{b})') : {str.isdigit(b)}\")\n",
        "print(f\"str.isdigit('{c})') : {str.isdigit(c)}\")\n",
        "print(f\"str.isdigit('{d})') : {str.isdigit(d)}\")\n",
        "print(f\"str.isdigit('{e})') : {str.isdigit(e)}\")\n",
        "print(f\"str.isdigit('{f})') : {str.isdigit(f)}\")\n",
        "print(f\"str.isdigit('{g})') : {str.isdigit(g)}\")\n",
        "print(f\"str.isdigit('{h})') : {str.isdigit(h)}\")\n",
        "print(f\"str.isdigit('{i})') : {str.isdigit(i)}\")\n",
        "\n"
      ],
      "metadata": {
        "colab": {
          "base_uri": "https://localhost:8080/"
        },
        "id": "QjhAUrWJ3WUc",
        "outputId": "16548645-f2a3-4253-c628-9045cf88b83c"
      },
      "execution_count": 10,
      "outputs": [
        {
          "output_type": "stream",
          "name": "stdout",
          "text": [
            "str.isdigit('BlockDMask)') : False\n",
            "str.isdigit('1234BLOG)') : False\n",
            "str.isdigit('20240425)') : True\n",
            "str.isdigit('-0103)') : False\n",
            "str.isdigit('2.005)') : False\n",
            "str.isdigit('5^3)') : False\n",
            "str.isdigit('3/7)') : False\n",
            "str.isdigit('0)') : True\n",
            "str.isdigit('0123)') : True\n"
          ]
        }
      ]
    },
    {
      "cell_type": "code",
      "source": [
        "a = '20050103'\n",
        "print(a.isdigit())\n",
        "print(a.isdecimal()) #DH\n",
        "print(a.isnumeric())\n"
      ],
      "metadata": {
        "colab": {
          "base_uri": "https://localhost:8080/"
        },
        "id": "9X5Hv19S8Yeg",
        "outputId": "dbad39a5-cd99-47ec-d4b6-4ae47eaa0f54"
      },
      "execution_count": 11,
      "outputs": [
        {
          "output_type": "stream",
          "name": "stdout",
          "text": [
            "True\n",
            "True\n",
            "True\n"
          ]
        }
      ]
    },
    {
      "cell_type": "code",
      "source": [
        "x = '5^3'\n",
        "print(x)\n",
        "print(x.isdigit())\n",
        "#True\n",
        "print(x.isdecimal())\n",
        "#False\n",
        "print(x.isnumeric())"
      ],
      "metadata": {
        "colab": {
          "base_uri": "https://localhost:8080/"
        },
        "id": "oAMpu5wv9qU5",
        "outputId": "f78595a3-e2f7-4c5d-9121-2613569d4fc3"
      },
      "execution_count": 12,
      "outputs": [
        {
          "output_type": "stream",
          "name": "stdout",
          "text": [
            "5^3\n",
            "False\n",
            "False\n",
            "False\n"
          ]
        }
      ]
    },
    {
      "cell_type": "code",
      "source": [
        "a = \"I love Ko professor\"\n",
        "\n",
        "print(a.islower() )\n",
        "print(a.isupper() ) #DH\n",
        "print(a.upper() )\n",
        "print(a.lower() )\n"
      ],
      "metadata": {
        "colab": {
          "base_uri": "https://localhost:8080/"
        },
        "id": "SxMFcq6qAlMb",
        "outputId": "70f3d90e-b6bd-4932-e794-29eb3b0e841a"
      },
      "execution_count": 14,
      "outputs": [
        {
          "output_type": "stream",
          "name": "stdout",
          "text": [
            "False\n",
            "False\n",
            "I LOVE KO PROFESSOR\n",
            "i love ko professor\n"
          ]
        }
      ]
    },
    {
      "cell_type": "code",
      "source": [
        "str = \"This is string Example...wow!!!\"\n",
        "print(str.swapcase())\n",
        "\n",
        "str = \"THIsis stRINg eXample...Wow!!!   1234\" #DH\n",
        "print(str.swapcase())"
      ],
      "metadata": {
        "colab": {
          "base_uri": "https://localhost:8080/"
        },
        "id": "ZLY84YwCBmB1",
        "outputId": "1804dd8d-6cdf-48ca-98bd-b10dbc831227"
      },
      "execution_count": 15,
      "outputs": [
        {
          "output_type": "stream",
          "name": "stdout",
          "text": [
            "tHIS IS STRING eXAMPLE...WOW!!!\n",
            "thiSIS STrinG ExAMPLE...wOW!!!   1234\n"
          ]
        }
      ]
    },
    {
      "cell_type": "code",
      "source": [
        "str = \"This Is String Example...Wow!!!\"\n",
        "print(str.istitle())\n",
        "\n",
        "str = \"THIsis stRINg eXample...Wow!!!   1234\" #DH\n",
        "print(str.title())"
      ],
      "metadata": {
        "colab": {
          "base_uri": "https://localhost:8080/"
        },
        "id": "u1woeHBdCluQ",
        "outputId": "fc52c7e4-e816-4c71-d03a-04fe2021ce02"
      },
      "execution_count": 18,
      "outputs": [
        {
          "output_type": "stream",
          "name": "stdout",
          "text": [
            "True\n",
            "Thisis String Example...Wow!!!   1234\n"
          ]
        }
      ]
    },
    {
      "cell_type": "code",
      "source": [
        "print ('hello future mobility!'.capitalize() ) # Hello world! #DH\n",
        "print ('HELLO FUTURE MOBILITY!'.capitalize() ) # Hello world!\n"
      ],
      "metadata": {
        "colab": {
          "base_uri": "https://localhost:8080/"
        },
        "id": "GZBfs8QhDKhR",
        "outputId": "ab81954f-1517-4112-af48-a88f36f337c0"
      },
      "execution_count": 19,
      "outputs": [
        {
          "output_type": "stream",
          "name": "stdout",
          "text": [
            "Hello future mobility!\n",
            "Hello future mobility!\n"
          ]
        }
      ]
    }
  ]
}