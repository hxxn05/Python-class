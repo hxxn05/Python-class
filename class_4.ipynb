{
  "nbformat": 4,
  "nbformat_minor": 0,
  "metadata": {
    "colab": {
      "provenance": [],
      "authorship_tag": "ABX9TyPSzy2HTpAPoTHUC6bFskLf",
      "include_colab_link": true
    },
    "kernelspec": {
      "name": "python3",
      "display_name": "Python 3"
    },
    "language_info": {
      "name": "python"
    }
  },
  "cells": [
    {
      "cell_type": "markdown",
      "metadata": {
        "id": "view-in-github",
        "colab_type": "text"
      },
      "source": [
        "<a href=\"https://colab.research.google.com/github/hxxn05/Python-class/blob/main/class_4.ipynb\" target=\"_parent\"><img src=\"https://colab.research.google.com/assets/colab-badge.svg\" alt=\"Open In Colab\"/></a>"
      ]
    },
    {
      "cell_type": "code",
      "execution_count": null,
      "metadata": {
        "colab": {
          "base_uri": "https://localhost:8080/"
        },
        "id": "qIDLnPEiNW3K",
        "outputId": "74f24909-043b-40b9-f5c8-d9913b144797"
      },
      "outputs": [
        {
          "output_type": "stream",
          "name": "stdout",
          "text": [
            "1.3333333333333333\n",
            "0.5\n",
            "2\n",
            "1\n",
            "343\n"
          ]
        }
      ],
      "source": [
        "a = 4 #DH\n",
        "b = 3\n",
        "\n",
        "c = 1\n",
        "d = 2\n",
        "print(a/b)#DH\n",
        "print(c/d)\n",
        "\n",
        "e = 7\n",
        "f = 3\n",
        "print(e//f)\n",
        "print(e%f)\n",
        "\n",
        "print(e**f)\n"
      ]
    },
    {
      "cell_type": "code",
      "source": [
        "quotient, remainder = divmod(5,2)#DH\n",
        "print(quotient, remainder)#DH"
      ],
      "metadata": {
        "colab": {
          "base_uri": "https://localhost:8080/"
        },
        "id": "uQm2dFYMOnaa",
        "outputId": "b4f46fe6-ab14-4e28-aa26-537476220491"
      },
      "execution_count": null,
      "outputs": [
        {
          "output_type": "stream",
          "name": "stdout",
          "text": [
            "2 1\n"
          ]
        }
      ]
    },
    {
      "cell_type": "code",
      "source": [
        "i = 3\n",
        "i+=3\n",
        "print(i)\n",
        "i-=3\n",
        "print(i)#YDH\n",
        "i *=2\n",
        "print(i)#YDH\n",
        "i /=2\n",
        "print(int(i))\n",
        "i%=2\n",
        "print(i)"
      ],
      "metadata": {
        "colab": {
          "base_uri": "https://localhost:8080/"
        },
        "id": "0EvXm-3uTK5a",
        "outputId": "8912a211-3ed0-4833-b779-0a19cc4ff85c"
      },
      "execution_count": null,
      "outputs": [
        {
          "output_type": "stream",
          "name": "stdout",
          "text": [
            "6\n",
            "3\n",
            "6\n",
            "3\n",
            "1.0\n"
          ]
        }
      ]
    },
    {
      "cell_type": "code",
      "source": [
        "a=10\n",
        "\n",
        "b=3\n",
        "\n",
        "print(\"10==3 =>\",a==b) #YDH\n",
        "\n",
        "print(\"10!=3 =>\",a!=b) #YDH\n",
        "\n",
        "print(\"10>3 =>\",a>b) #YDH\n",
        "\n",
        "print(\"10>=3 =>\",a>=b)\n",
        "\n",
        "print(\"10<3 =>\",a<b) #YDH\n",
        "\n",
        "print(\"10<=3=>\",a<=b)\n",
        "\n",
        "print()"
      ],
      "metadata": {
        "colab": {
          "base_uri": "https://localhost:8080/"
        },
        "id": "-nJfw__vy8KF",
        "outputId": "27012ed2-1175-47fe-b20a-67ddf1831f80"
      },
      "execution_count": null,
      "outputs": [
        {
          "output_type": "stream",
          "name": "stdout",
          "text": [
            "10==3 => False\n",
            "10!=3 => True\n",
            "10>3 => True\n",
            "10>=3 => True\n",
            "10<3 => False\n",
            "10<=3=> False\n",
            "\n"
          ]
        }
      ]
    },
    {
      "cell_type": "code",
      "source": [
        "a = 13\n",
        "print(bin(a))#DH\n",
        "print(bin(b))"
      ],
      "metadata": {
        "colab": {
          "base_uri": "https://localhost:8080/"
        },
        "id": "d6MVixO72meZ",
        "outputId": "dc5c4946-19a2-4ff0-aa1f-bb7415e9753d"
      },
      "execution_count": null,
      "outputs": [
        {
          "output_type": "stream",
          "name": "stdout",
          "text": [
            "0b1101\n",
            "0b11\n"
          ]
        }
      ]
    },
    {
      "cell_type": "code",
      "source": [
        "a = 13\n",
        "print(bin(a))\n",
        "print(hex(a))#YDH\n",
        "\n",
        "int ('1101',2)"
      ],
      "metadata": {
        "colab": {
          "base_uri": "https://localhost:8080/"
        },
        "id": "2rIQRC_vMQ27",
        "outputId": "3c754213-80c3-4b38-facc-60f657a3199d"
      },
      "execution_count": null,
      "outputs": [
        {
          "output_type": "stream",
          "name": "stdout",
          "text": [
            "0b1101\n",
            "0xd\n"
          ]
        },
        {
          "output_type": "execute_result",
          "data": {
            "text/plain": [
              "13"
            ]
          },
          "metadata": {},
          "execution_count": 10
        }
      ]
    },
    {
      "cell_type": "code",
      "source": [
        "a = 12\n",
        "b = 8\n",
        "\n",
        "print(bin(a))\n",
        "print(bin(b))\n",
        "print(bin(a&b))#YDH\n",
        "print(' ')\n",
        "print(a&b)\n",
        "\n",
        "print(' ')\n",
        "print(bin(a))\n",
        "print(bin(b))#YDH\n",
        "print(bin(a|b))\n",
        "print(' ')\n",
        "print(a|b)\n",
        "\n",
        "\n",
        "print(' ')\n",
        "print(bin(a))\n",
        "print(bin(b))\n",
        "print(bin(a^b))#YDH\n",
        "print(' ')\n",
        "print(a^b)\n",
        "\n",
        "print(' ')\n",
        "print(bin(a))\n",
        "print(bin(~a))"
      ],
      "metadata": {
        "colab": {
          "base_uri": "https://localhost:8080/"
        },
        "id": "OE4LEwzRMqth",
        "outputId": "1629fa09-cbd9-4330-fa77-3dd8c60b6cb5"
      },
      "execution_count": null,
      "outputs": [
        {
          "output_type": "stream",
          "name": "stdout",
          "text": [
            "0b1100\n",
            "0b1000\n",
            "0b1000\n",
            " \n",
            "8\n",
            " \n",
            "0b1100\n",
            "0b1000\n",
            "0b1100\n",
            " \n",
            "12\n",
            " \n",
            "0b1100\n",
            "0b1000\n",
            "0b100\n",
            " \n",
            "4\n",
            " \n",
            "0b1100\n",
            "-0b1101\n"
          ]
        }
      ]
    }
  ]
}